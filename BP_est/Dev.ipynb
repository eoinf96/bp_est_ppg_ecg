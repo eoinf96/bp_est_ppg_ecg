{
 "cells": [
  {
   "cell_type": "code",
   "execution_count": 1,
   "id": "8d5fb63e",
   "metadata": {},
   "outputs": [
    {
     "data": {
      "text/html": [
       "<style>.container { width:100% !important; }</style>"
      ],
      "text/plain": [
       "<IPython.core.display.HTML object>"
      ]
     },
     "metadata": {},
     "output_type": "display_data"
    }
   ],
   "source": [
    "from IPython.display import display, HTML\n",
    "display(HTML(\"<style>.container { width:100% !important; }</style>\"))\n",
    "%load_ext autoreload\n",
    "%autoreload 2\n",
    "\n",
    "import pandas as pd\n",
    "import matplotlib.pyplot as plt\n",
    "import numpy as np"
   ]
  },
  {
   "cell_type": "code",
   "execution_count": 2,
   "id": "a1e87cec",
   "metadata": {},
   "outputs": [],
   "source": [
    "BP_name = 'SBP'"
   ]
  },
  {
   "cell_type": "code",
   "execution_count": 6,
   "id": "b6992d65",
   "metadata": {},
   "outputs": [],
   "source": [
    "df_PPG = pd.read_csv('data/PPG_features.csv')\n",
    "df_ECG = pd.read_csv('data/ECG_features.csv')\n",
    "df_PAT = pd.read_csv('data/PAT_features.csv')\n",
    "\n",
    "df = pd.concat([df_PPG, df_ECG], axis=1, join=\"inner\")\n",
    "df = pd.concat([df, df_PAT], axis=1, join=\"inner\")\n",
    "\n",
    "df = df.loc[:, ~df.columns.duplicated()].copy()"
   ]
  },
  {
   "cell_type": "code",
   "execution_count": 4,
   "id": "427bda7f",
   "metadata": {},
   "outputs": [],
   "source": [
    "df_PPG = pd.read_csv('data/PPG_features_aug.csv')\n",
    "df_ECG = pd.read_csv('data/ECG_features_aug.csv')\n",
    "df_PAT = pd.read_csv('data/PAT_features_aug.csv')\n",
    "\n",
    "df_aug = pd.concat([df_PPG, df_ECG], axis=1, join=\"inner\")\n",
    "df_aug = pd.concat([df_aug, df_PAT], axis=1, join=\"inner\")\n",
    "\n",
    "df_aug = df_aug.loc[:, ~df_aug.columns.duplicated()].copy()"
   ]
  },
  {
   "cell_type": "code",
   "execution_count": 40,
   "id": "e1a986cb",
   "metadata": {},
   "outputs": [],
   "source": [
    "from classes import MOLLIE_session, BP_est_dataset\n",
    "MOLLIE = MOLLIE_session()\n",
    "BP_est = BP_est_dataset(df = df,df_aug = df_aug, study = MOLLIE)\n",
    "BP_est.calibrate_dataset()\n",
    "# BP_est.drop_collinear_features(VIF_max = 10)"
   ]
  },
  {
   "cell_type": "code",
   "execution_count": 43,
   "id": "0962ab2e",
   "metadata": {},
   "outputs": [
    {
     "data": {
      "text/plain": [
       "['delta_t',\n",
       " 'CT',\n",
       " 't_sys',\n",
       " 't_dia',\n",
       " 't_ratio',\n",
       " 'dic_amp',\n",
       " 'RI',\n",
       " 'STT',\n",
       " 'A1',\n",
       " 'A2',\n",
       " 'IPA',\n",
       " 'sVRI',\n",
       " 'width25',\n",
       " 'width50',\n",
       " 'NHA',\n",
       " 'skewness',\n",
       " 'kurtosis',\n",
       " 'IHAR',\n",
       " 'sp_mean',\n",
       " 'sp_var',\n",
       " 'dp_mean',\n",
       " 'dp_var',\n",
       " 'PPG_AI',\n",
       " 'b_div_a',\n",
       " 'c_div_a',\n",
       " 'd_div_a',\n",
       " 'e_div_a',\n",
       " 'AGI',\n",
       " 'slope_b_c',\n",
       " 'slope_b_d',\n",
       " 'PI',\n",
       " 'gauss_AI',\n",
       " 'gauss_RI',\n",
       " 'gauss_sys_dias',\n",
       " 'gauss_RTT_Rubins',\n",
       " 'gauss_AIx_Rubins',\n",
       " 'gauss_RI_Rubins',\n",
       " 'gauss_LVET',\n",
       " 'gauss_amp4_amp1',\n",
       " 'gauss_sigma4_amp1',\n",
       " 'g1_amp',\n",
       " 'g1_mu',\n",
       " 'g1_sigma',\n",
       " 'g2_amp',\n",
       " 'g2_mu',\n",
       " 'g2_sigma',\n",
       " 'g3_amp',\n",
       " 'g3_mu',\n",
       " 'g3_sigma',\n",
       " 'g4_amp',\n",
       " 'g4_mu',\n",
       " 'g4_sigma',\n",
       " 'PPG_PCA_1',\n",
       " 'PPG_PCA_2',\n",
       " 'PPG_PCA_3',\n",
       " 'VPG_PCA_1',\n",
       " 'VPG_PCA_2',\n",
       " 'VPG_PCA_3',\n",
       " 'APG_PCA_1',\n",
       " 'APG_PCA_2',\n",
       " 'APG_PCA_3',\n",
       " 'Hjorth_mobility',\n",
       " 'Hjorth_complexity',\n",
       " 'Fractal_dimension',\n",
       " 'SE',\n",
       " 'approxEnt',\n",
       " 'sampEnt',\n",
       " 'MSE_scale_2',\n",
       " 'MSE_scale_4',\n",
       " 'MSE_scale_6',\n",
       " 'MSE_scale_8',\n",
       " 'PAT',\n",
       " 'Age',\n",
       " 'Sex',\n",
       " 'Weight',\n",
       " 'Height',\n",
       " 'BMI']"
      ]
     },
     "execution_count": 43,
     "metadata": {},
     "output_type": "execute_result"
    }
   ],
   "source": [
    "BP_est.feature_names"
   ]
  },
  {
   "cell_type": "code",
   "execution_count": 29,
   "id": "47f5d699",
   "metadata": {},
   "outputs": [],
   "source": [
    "df_attr_name = {0: 'Original', 1: 'Augmented'}"
   ]
  }
 ],
 "metadata": {
  "kernelspec": {
   "display_name": "Python 3 (ipykernel)",
   "language": "python",
   "name": "python3"
  },
  "language_info": {
   "codemirror_mode": {
    "name": "ipython",
    "version": 3
   },
   "file_extension": ".py",
   "mimetype": "text/x-python",
   "name": "python",
   "nbconvert_exporter": "python",
   "pygments_lexer": "ipython3",
   "version": "3.8.3"
  }
 },
 "nbformat": 4,
 "nbformat_minor": 5
}
