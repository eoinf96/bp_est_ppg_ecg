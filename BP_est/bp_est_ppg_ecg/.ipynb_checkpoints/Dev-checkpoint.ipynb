{
 "cells": [
  {
   "cell_type": "code",
   "execution_count": 1,
   "id": "8d5fb63e",
   "metadata": {},
   "outputs": [
    {
     "data": {
      "text/html": [
       "<style>.container { width:100% !important; }</style>"
      ],
      "text/plain": [
       "<IPython.core.display.HTML object>"
      ]
     },
     "metadata": {},
     "output_type": "display_data"
    }
   ],
   "source": [
    "from IPython.display import display, HTML\n",
    "display(HTML(\"<style>.container { width:100% !important; }</style>\"))\n",
    "%load_ext autoreload\n",
    "%autoreload 2\n",
    "\n",
    "import pandas as pd\n",
    "import matplotlib.pyplot as plt\n",
    "import numpy as np\n",
    "from sklearn import linear_model"
   ]
  },
  {
   "cell_type": "code",
   "execution_count": 2,
   "id": "a1e87cec",
   "metadata": {},
   "outputs": [],
   "source": [
    "BP_name = 'SBP'"
   ]
  },
  {
   "cell_type": "code",
   "execution_count": 4,
   "id": "b6992d65",
   "metadata": {},
   "outputs": [],
   "source": [
    "df_PPG = pd.read_csv('../data/PPG_features.csv')\n",
    "df_ECG = pd.read_csv('../data/ECG_features.csv')\n",
    "df_PAT = pd.read_csv('../data/PAT_features.csv')\n",
    "\n",
    "df = pd.concat([df_PPG, df_ECG], axis=1, join=\"inner\")\n",
    "df = pd.concat([df, df_PAT], axis=1, join=\"inner\")\n",
    "\n",
    "df = df.loc[:, ~df.columns.duplicated()].copy()"
   ]
  },
  {
   "cell_type": "code",
   "execution_count": 5,
   "id": "c8462ff2",
   "metadata": {},
   "outputs": [],
   "source": [
    "df_PPG = pd.read_csv('../data/PPG_features_aug.csv')\n",
    "df_ECG = pd.read_csv('../data/ECG_features_aug.csv')\n",
    "df_PAT = pd.read_csv('../data/PAT_features_aug.csv')\n",
    "\n",
    "df_aug = pd.concat([df_PPG, df_ECG], axis=1, join=\"inner\")\n",
    "df_aug = pd.concat([df_aug, df_PAT], axis=1, join=\"inner\")\n",
    "\n",
    "df_aug = df_aug.loc[:, ~df_aug.columns.duplicated()].copy()"
   ]
  },
  {
   "cell_type": "code",
   "execution_count": 8,
   "id": "352471b5",
   "metadata": {},
   "outputs": [],
   "source": [
    "# from bp_est_ppg_ecg \n",
    "from MOLLIE_session import\n",
    "from Dataset_utils import BP_est_dataset\n",
    "import regression_model_funcs\n",
    "\n",
    "from warnings import simplefilter\n",
    "from sklearn.exceptions import ConvergenceWarning\n",
    "simplefilter(\"ignore\", category=ConvergenceWarning)\n",
    "from sklearn.preprocessing import StandardScaler\n",
    "# import shap"
   ]
  },
  {
   "cell_type": "code",
   "execution_count": 9,
   "id": "d7946cf8",
   "metadata": {
    "scrolled": true
   },
   "outputs": [
    {
     "ename": "TypeError",
     "evalue": "'module' object is not callable",
     "output_type": "error",
     "traceback": [
      "\u001b[0;31m---------------------------------------------------------------------------\u001b[0m",
      "\u001b[0;31mTypeError\u001b[0m                                 Traceback (most recent call last)",
      "Cell \u001b[0;32mIn[9], line 3\u001b[0m\n\u001b[1;32m      1\u001b[0m model_name \u001b[38;5;241m=\u001b[39m \u001b[38;5;124m'\u001b[39m\u001b[38;5;124mLASSO\u001b[39m\u001b[38;5;124m'\u001b[39m\n\u001b[0;32m----> 3\u001b[0m MOLLIE \u001b[38;5;241m=\u001b[39m \u001b[43mMOLLIE_session\u001b[49m\u001b[43m(\u001b[49m\u001b[43m)\u001b[49m\n\u001b[1;32m      4\u001b[0m BP_est \u001b[38;5;241m=\u001b[39m BP_est_dataset(df \u001b[38;5;241m=\u001b[39m df,df_aug \u001b[38;5;241m=\u001b[39m df_aug, study \u001b[38;5;241m=\u001b[39m MOLLIE)\n\u001b[1;32m      5\u001b[0m BP_est\u001b[38;5;241m.\u001b[39mcalibrate_dataset()\n",
      "\u001b[0;31mTypeError\u001b[0m: 'module' object is not callable"
     ]
    }
   ],
   "source": [
    "model_name = 'LASSO'\n",
    "\n",
    "MOLLIE = MOLLIE_session()\n",
    "BP_est = BP_est_dataset(df = df,df_aug = df_aug, study = MOLLIE)\n",
    "BP_est.calibrate_dataset()\n",
    "BP_est.drop_collinear_features(VIF_max = 10)\n",
    "BP_est.ID_iterator(restart=True)\n",
    "\n",
    "### PERFORM LOSOCV\n",
    "\n",
    "# for ii in range(len(BP_est.Original.df['ID'].unique())):\n",
    "for ii in range(2):\n",
    "    print(ii)\n",
    "    BP_est.ID_iterator(val=ii+1)\n",
    "    (X_train, X_test, y_train, y_test) = BP_est.return_LOSO_train_test_data()\n",
    "    ### Standardise \n",
    "    sc = StandardScaler()\n",
    "    X_train = sc.fit_transform(X_train)\n",
    "    X_test= sc.transform(X_test)\n",
    "    ### LASSO + OLS\n",
    "    cv = BP_est.return_inner_cv()\n",
    "    mdl = regression_funcs.linear_regression(X_train=X_train, y_train=y_train, method = 'LASSO', cv = cv)\n",
    "    BP_est.results['LASSO'].update_results(mdl,X_test=X_test, y_test=y_test, X_train=X_train, y_train=y_train) \n",
    "    ### RF\n",
    "#     cv = BP_est.return_inner_cv()\n",
    "#     mdl = regression_funcs.RF_regression(X_train=X_train, y_train=y_train, run_hyper_param_tuning=False, cv = None)\n",
    "#     BP_est.results['RF'].update_results(mdl,X_test=X_test, y_test=y_test, X_train=X_train, y_train=y_train) \n",
    "    \n",
    "BP_est.pickle_class(file_name='a')"
   ]
  },
  {
   "cell_type": "code",
   "execution_count": null,
   "id": "e4f5c478",
   "metadata": {},
   "outputs": [],
   "source": [
    "BP_est.pickle_class(file_name='a')"
   ]
  },
  {
   "cell_type": "code",
   "execution_count": null,
   "id": "9364f13f",
   "metadata": {},
   "outputs": [],
   "source": [
    "BP_est.results['LASSO'].mdl_store[1].cv"
   ]
  },
  {
   "cell_type": "code",
   "execution_count": null,
   "id": "53725ad9",
   "metadata": {},
   "outputs": [],
   "source": [
    "mdl.cv"
   ]
  },
  {
   "cell_type": "code",
   "execution_count": null,
   "id": "0d857b94",
   "metadata": {},
   "outputs": [],
   "source": []
  },
  {
   "cell_type": "code",
   "execution_count": null,
   "id": "b8d85a1a",
   "metadata": {},
   "outputs": [],
   "source": [
    "# Load data\n",
    "\n",
    "\n",
    "BP_est = "
   ]
  }
 ],
 "metadata": {
  "kernelspec": {
   "display_name": "Python 3 (ipykernel)",
   "language": "python",
   "name": "python3"
  },
  "language_info": {
   "codemirror_mode": {
    "name": "ipython",
    "version": 3
   },
   "file_extension": ".py",
   "mimetype": "text/x-python",
   "name": "python",
   "nbconvert_exporter": "python",
   "pygments_lexer": "ipython3",
   "version": "3.8.3"
  }
 },
 "nbformat": 4,
 "nbformat_minor": 5
}
