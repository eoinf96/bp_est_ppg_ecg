{
 "cells": [
  {
   "cell_type": "code",
   "execution_count": 1,
   "id": "8d5fb63e",
   "metadata": {},
   "outputs": [
    {
     "data": {
      "text/html": [
       "<style>.container { width:100% !important; }</style>"
      ],
      "text/plain": [
       "<IPython.core.display.HTML object>"
      ]
     },
     "metadata": {},
     "output_type": "display_data"
    }
   ],
   "source": [
    "from IPython.display import display, HTML\n",
    "display(HTML(\"<style>.container { width:100% !important; }</style>\"))\n",
    "%load_ext autoreload\n",
    "%autoreload 2\n",
    "\n",
    "import pandas as pd\n",
    "import matplotlib.pyplot as plt\n",
    "import numpy as np\n",
    "from sklearn import linear_model"
   ]
  },
  {
   "cell_type": "code",
   "execution_count": 2,
   "id": "a1e87cec",
   "metadata": {},
   "outputs": [],
   "source": [
    "BP_name = 'SBP'"
   ]
  },
  {
   "cell_type": "code",
   "execution_count": 4,
   "id": "b6992d65",
   "metadata": {},
   "outputs": [],
   "source": [
    "df_PPG = pd.read_csv('../data/PPG_features.csv')\n",
    "df_ECG = pd.read_csv('../data/ECG_features.csv')\n",
    "df_PAT = pd.read_csv('../data/PAT_features.csv')\n",
    "\n",
    "df = pd.concat([df_PPG, df_ECG], axis=1, join=\"inner\")\n",
    "df = pd.concat([df, df_PAT], axis=1, join=\"inner\")\n",
    "\n",
    "df = df.loc[:, ~df.columns.duplicated()].copy()"
   ]
  },
  {
   "cell_type": "code",
   "execution_count": 5,
   "id": "c8462ff2",
   "metadata": {},
   "outputs": [],
   "source": [
    "df_PPG = pd.read_csv('../data/PPG_features_aug.csv')\n",
    "df_ECG = pd.read_csv('../data/ECG_features_aug.csv')\n",
    "df_PAT = pd.read_csv('../data/PAT_features_aug.csv')\n",
    "\n",
    "df_aug = pd.concat([df_PPG, df_ECG], axis=1, join=\"inner\")\n",
    "df_aug = pd.concat([df_aug, df_PAT], axis=1, join=\"inner\")\n",
    "\n",
    "df_aug = df_aug.loc[:, ~df_aug.columns.duplicated()].copy()"
   ]
  },
  {
   "cell_type": "code",
   "execution_count": 14,
   "id": "352471b5",
   "metadata": {},
   "outputs": [],
   "source": [
    "from MOLLIE_session import MOLLIE_session\n",
    "from Dataset_utils import BP_est_dataset\n",
    "from regression_model_funcs import *\n",
    "\n",
    "from warnings import simplefilter\n",
    "from sklearn.exceptions import ConvergenceWarning\n",
    "simplefilter(\"ignore\", category=ConvergenceWarning)\n",
    "from sklearn.preprocessing import StandardScaler\n",
    "# import shap"
   ]
  },
  {
   "cell_type": "code",
   "execution_count": 22,
   "id": "d7946cf8",
   "metadata": {
    "scrolled": true
   },
   "outputs": [
    {
     "name": "stdout",
     "output_type": "stream",
     "text": [
      "0\n",
      "HERE\n",
      "1\n",
      "HERE\n"
     ]
    },
    {
     "ename": "PicklingError",
     "evalue": "Can't pickle <class 'Dataset_utils.BP_est_dataset'>: it's not the same object as Dataset_utils.BP_est_dataset",
     "output_type": "error",
     "traceback": [
      "\u001b[0;31m---------------------------------------------------------------------------\u001b[0m",
      "\u001b[0;31mPicklingError\u001b[0m                             Traceback (most recent call last)",
      "Cell \u001b[0;32mIn[22], line 29\u001b[0m\n\u001b[1;32m     23\u001b[0m     BP_est\u001b[38;5;241m.\u001b[39mresults[\u001b[38;5;124m'\u001b[39m\u001b[38;5;124mLASSO\u001b[39m\u001b[38;5;124m'\u001b[39m]\u001b[38;5;241m.\u001b[39mupdate_results(mdl,X_test\u001b[38;5;241m=\u001b[39mX_test, y_test\u001b[38;5;241m=\u001b[39my_test, X_train\u001b[38;5;241m=\u001b[39mX_train, y_train\u001b[38;5;241m=\u001b[39my_train) \n\u001b[1;32m     24\u001b[0m     \u001b[38;5;66;03m### RF\u001b[39;00m\n\u001b[1;32m     25\u001b[0m \u001b[38;5;66;03m#     cv = BP_est.return_inner_cv()\u001b[39;00m\n\u001b[1;32m     26\u001b[0m \u001b[38;5;66;03m#     mdl = regression_funcs.RF_regression(X_train=X_train, y_train=y_train, run_hyper_param_tuning=False, cv = None)\u001b[39;00m\n\u001b[1;32m     27\u001b[0m \u001b[38;5;66;03m#     BP_est.results['RF'].update_results(mdl,X_test=X_test, y_test=y_test, X_train=X_train, y_train=y_train) \u001b[39;00m\n\u001b[0;32m---> 29\u001b[0m \u001b[43mBP_est\u001b[49m\u001b[38;5;241;43m.\u001b[39;49m\u001b[43mpickle_class\u001b[49m\u001b[43m(\u001b[49m\u001b[43mfile_name\u001b[49m\u001b[38;5;241;43m=\u001b[39;49m\u001b[38;5;124;43m'\u001b[39;49m\u001b[38;5;124;43ma\u001b[39;49m\u001b[38;5;124;43m'\u001b[39;49m\u001b[43m)\u001b[49m\n",
      "File \u001b[0;32m~/Dropbox/bp_ecg_paper_github/BP_est/bp_est_ppg_ecg/Dataset_utils.py:380\u001b[0m, in \u001b[0;36mBP_est_dataset.pickle_class\u001b[0;34m(self, file_name)\u001b[0m\n\u001b[1;32m    369\u001b[0m \u001b[38;5;250m\u001b[39m\u001b[38;5;124;03m\"\"\"\u001b[39;00m\n\u001b[1;32m    370\u001b[0m \u001b[38;5;124;03mPickle the class object to a file.\u001b[39;00m\n\u001b[1;32m    371\u001b[0m \n\u001b[0;32m   (...)\u001b[0m\n\u001b[1;32m    376\u001b[0m \u001b[38;5;124;03m- None\u001b[39;00m\n\u001b[1;32m    377\u001b[0m \u001b[38;5;124;03m\"\"\"\u001b[39;00m\n\u001b[1;32m    378\u001b[0m \u001b[38;5;28;01mwith\u001b[39;00m \u001b[38;5;28mopen\u001b[39m(file_name, \u001b[38;5;124m'\u001b[39m\u001b[38;5;124mwb\u001b[39m\u001b[38;5;124m'\u001b[39m) \u001b[38;5;28;01mas\u001b[39;00m f:\n\u001b[1;32m    379\u001b[0m \u001b[38;5;66;03m# joblib.dump(self, file_name)\u001b[39;00m\n\u001b[0;32m--> 380\u001b[0m     \u001b[43mpickle\u001b[49m\u001b[38;5;241;43m.\u001b[39;49m\u001b[43mdump\u001b[49m\u001b[43m(\u001b[49m\u001b[38;5;28;43mself\u001b[39;49m\u001b[43m,\u001b[49m\u001b[43m \u001b[49m\u001b[43mf\u001b[49m\u001b[43m,\u001b[49m\u001b[43m \u001b[49m\u001b[38;5;241;43m2\u001b[39;49m\u001b[43m)\u001b[49m\n\u001b[1;32m    381\u001b[0m     \u001b[38;5;66;03m# joblib.dump(self, f)\u001b[39;00m\n\u001b[1;32m    382\u001b[0m     f\u001b[38;5;241m.\u001b[39mclose()\n",
      "\u001b[0;31mPicklingError\u001b[0m: Can't pickle <class 'Dataset_utils.BP_est_dataset'>: it's not the same object as Dataset_utils.BP_est_dataset"
     ]
    }
   ],
   "source": [
    "model_name = 'LASSO'\n",
    "\n",
    "MOLLIE = MOLLIE_session()\n",
    "BP_est = BP_est_dataset(df = df,df_aug = df_aug, study = MOLLIE)\n",
    "BP_est.calibrate_dataset()\n",
    "BP_est.drop_collinear_features(VIF_max = 10)\n",
    "BP_est.ID_iterator(restart=True)\n",
    "\n",
    "### PERFORM LOSOCV\n",
    "\n",
    "# for ii in range(len(BP_est.Original.df['ID'].unique())):\n",
    "for ii in range(2):\n",
    "    print(ii)\n",
    "    BP_est.ID_iterator(val=ii+1)\n",
    "    (X_train, X_test, y_train, y_test) = BP_est.return_LOSO_train_test_data()\n",
    "    ### Standardise \n",
    "    sc = StandardScaler()\n",
    "    X_train = sc.fit_transform(X_train)\n",
    "    X_test= sc.transform(X_test)\n",
    "    ### LASSO + OLS\n",
    "    cv = BP_est.return_inner_cv()\n",
    "    mdl = linear_regression(X_train=X_train, y_train=y_train, method = 'LASSO', cv = cv)\n",
    "    BP_est.results['LASSO'].update_results(mdl,X_test=X_test, y_test=y_test, X_train=X_train, y_train=y_train) \n",
    "    ### RF\n",
    "#     cv = BP_est.return_inner_cv()\n",
    "#     mdl = regression_funcs.RF_regression(X_train=X_train, y_train=y_train, run_hyper_param_tuning=False, cv = None)\n",
    "#     BP_est.results['RF'].update_results(mdl,X_test=X_test, y_test=y_test, X_train=X_train, y_train=y_train) \n",
    "    \n",
    "BP_est.pickle_class(file_name='a')"
   ]
  },
  {
   "cell_type": "code",
   "execution_count": 17,
   "id": "8313c12a",
   "metadata": {},
   "outputs": [],
   "source": [
    "mdl.cv = None"
   ]
  },
  {
   "cell_type": "code",
   "execution_count": 16,
   "id": "4a99d711",
   "metadata": {},
   "outputs": [
    {
     "ename": "TypeError",
     "evalue": "cannot pickle 'generator' object",
     "output_type": "error",
     "traceback": [
      "\u001b[0;31m---------------------------------------------------------------------------\u001b[0m",
      "\u001b[0;31mTypeError\u001b[0m                                 Traceback (most recent call last)",
      "Cell \u001b[0;32mIn[16], line 3\u001b[0m\n\u001b[1;32m      1\u001b[0m \u001b[38;5;28;01mimport\u001b[39;00m \u001b[38;5;21;01mcopy\u001b[39;00m\n\u001b[0;32m----> 3\u001b[0m model_copy \u001b[38;5;241m=\u001b[39m \u001b[43mcopy\u001b[49m\u001b[38;5;241;43m.\u001b[39;49m\u001b[43mdeepcopy\u001b[49m\u001b[43m(\u001b[49m\u001b[43mmdl\u001b[49m\u001b[43m)\u001b[49m\n",
      "File \u001b[0;32m/Users/Eoinfinnegan/miniconda3/lib/python3.8/copy.py:172\u001b[0m, in \u001b[0;36mdeepcopy\u001b[0;34m(x, memo, _nil)\u001b[0m\n\u001b[1;32m    170\u001b[0m                 y \u001b[38;5;241m=\u001b[39m x\n\u001b[1;32m    171\u001b[0m             \u001b[38;5;28;01melse\u001b[39;00m:\n\u001b[0;32m--> 172\u001b[0m                 y \u001b[38;5;241m=\u001b[39m \u001b[43m_reconstruct\u001b[49m\u001b[43m(\u001b[49m\u001b[43mx\u001b[49m\u001b[43m,\u001b[49m\u001b[43m \u001b[49m\u001b[43mmemo\u001b[49m\u001b[43m,\u001b[49m\u001b[43m \u001b[49m\u001b[38;5;241;43m*\u001b[39;49m\u001b[43mrv\u001b[49m\u001b[43m)\u001b[49m\n\u001b[1;32m    174\u001b[0m \u001b[38;5;66;03m# If is its own copy, don't memoize.\u001b[39;00m\n\u001b[1;32m    175\u001b[0m \u001b[38;5;28;01mif\u001b[39;00m y \u001b[38;5;129;01mis\u001b[39;00m \u001b[38;5;129;01mnot\u001b[39;00m x:\n",
      "File \u001b[0;32m/Users/Eoinfinnegan/miniconda3/lib/python3.8/copy.py:270\u001b[0m, in \u001b[0;36m_reconstruct\u001b[0;34m(x, memo, func, args, state, listiter, dictiter, deepcopy)\u001b[0m\n\u001b[1;32m    268\u001b[0m \u001b[38;5;28;01mif\u001b[39;00m state \u001b[38;5;129;01mis\u001b[39;00m \u001b[38;5;129;01mnot\u001b[39;00m \u001b[38;5;28;01mNone\u001b[39;00m:\n\u001b[1;32m    269\u001b[0m     \u001b[38;5;28;01mif\u001b[39;00m deep:\n\u001b[0;32m--> 270\u001b[0m         state \u001b[38;5;241m=\u001b[39m \u001b[43mdeepcopy\u001b[49m\u001b[43m(\u001b[49m\u001b[43mstate\u001b[49m\u001b[43m,\u001b[49m\u001b[43m \u001b[49m\u001b[43mmemo\u001b[49m\u001b[43m)\u001b[49m\n\u001b[1;32m    271\u001b[0m     \u001b[38;5;28;01mif\u001b[39;00m \u001b[38;5;28mhasattr\u001b[39m(y, \u001b[38;5;124m'\u001b[39m\u001b[38;5;124m__setstate__\u001b[39m\u001b[38;5;124m'\u001b[39m):\n\u001b[1;32m    272\u001b[0m         y\u001b[38;5;241m.\u001b[39m__setstate__(state)\n",
      "File \u001b[0;32m/Users/Eoinfinnegan/miniconda3/lib/python3.8/copy.py:146\u001b[0m, in \u001b[0;36mdeepcopy\u001b[0;34m(x, memo, _nil)\u001b[0m\n\u001b[1;32m    144\u001b[0m copier \u001b[38;5;241m=\u001b[39m _deepcopy_dispatch\u001b[38;5;241m.\u001b[39mget(\u001b[38;5;28mcls\u001b[39m)\n\u001b[1;32m    145\u001b[0m \u001b[38;5;28;01mif\u001b[39;00m copier \u001b[38;5;129;01mis\u001b[39;00m \u001b[38;5;129;01mnot\u001b[39;00m \u001b[38;5;28;01mNone\u001b[39;00m:\n\u001b[0;32m--> 146\u001b[0m     y \u001b[38;5;241m=\u001b[39m \u001b[43mcopier\u001b[49m\u001b[43m(\u001b[49m\u001b[43mx\u001b[49m\u001b[43m,\u001b[49m\u001b[43m \u001b[49m\u001b[43mmemo\u001b[49m\u001b[43m)\u001b[49m\n\u001b[1;32m    147\u001b[0m \u001b[38;5;28;01melse\u001b[39;00m:\n\u001b[1;32m    148\u001b[0m     \u001b[38;5;28;01mif\u001b[39;00m \u001b[38;5;28missubclass\u001b[39m(\u001b[38;5;28mcls\u001b[39m, \u001b[38;5;28mtype\u001b[39m):\n",
      "File \u001b[0;32m/Users/Eoinfinnegan/miniconda3/lib/python3.8/copy.py:230\u001b[0m, in \u001b[0;36m_deepcopy_dict\u001b[0;34m(x, memo, deepcopy)\u001b[0m\n\u001b[1;32m    228\u001b[0m memo[\u001b[38;5;28mid\u001b[39m(x)] \u001b[38;5;241m=\u001b[39m y\n\u001b[1;32m    229\u001b[0m \u001b[38;5;28;01mfor\u001b[39;00m key, value \u001b[38;5;129;01min\u001b[39;00m x\u001b[38;5;241m.\u001b[39mitems():\n\u001b[0;32m--> 230\u001b[0m     y[deepcopy(key, memo)] \u001b[38;5;241m=\u001b[39m \u001b[43mdeepcopy\u001b[49m\u001b[43m(\u001b[49m\u001b[43mvalue\u001b[49m\u001b[43m,\u001b[49m\u001b[43m \u001b[49m\u001b[43mmemo\u001b[49m\u001b[43m)\u001b[49m\n\u001b[1;32m    231\u001b[0m \u001b[38;5;28;01mreturn\u001b[39;00m y\n",
      "File \u001b[0;32m/Users/Eoinfinnegan/miniconda3/lib/python3.8/copy.py:161\u001b[0m, in \u001b[0;36mdeepcopy\u001b[0;34m(x, memo, _nil)\u001b[0m\n\u001b[1;32m    159\u001b[0m reductor \u001b[38;5;241m=\u001b[39m \u001b[38;5;28mgetattr\u001b[39m(x, \u001b[38;5;124m\"\u001b[39m\u001b[38;5;124m__reduce_ex__\u001b[39m\u001b[38;5;124m\"\u001b[39m, \u001b[38;5;28;01mNone\u001b[39;00m)\n\u001b[1;32m    160\u001b[0m \u001b[38;5;28;01mif\u001b[39;00m reductor \u001b[38;5;129;01mis\u001b[39;00m \u001b[38;5;129;01mnot\u001b[39;00m \u001b[38;5;28;01mNone\u001b[39;00m:\n\u001b[0;32m--> 161\u001b[0m     rv \u001b[38;5;241m=\u001b[39m \u001b[43mreductor\u001b[49m\u001b[43m(\u001b[49m\u001b[38;5;241;43m4\u001b[39;49m\u001b[43m)\u001b[49m\n\u001b[1;32m    162\u001b[0m \u001b[38;5;28;01melse\u001b[39;00m:\n\u001b[1;32m    163\u001b[0m     reductor \u001b[38;5;241m=\u001b[39m \u001b[38;5;28mgetattr\u001b[39m(x, \u001b[38;5;124m\"\u001b[39m\u001b[38;5;124m__reduce__\u001b[39m\u001b[38;5;124m\"\u001b[39m, \u001b[38;5;28;01mNone\u001b[39;00m)\n",
      "\u001b[0;31mTypeError\u001b[0m: cannot pickle 'generator' object"
     ]
    }
   ],
   "source": [
    "import copy\n",
    "\n",
    "model_copy = copy.deepcopy(mdl)"
   ]
  },
  {
   "cell_type": "code",
   "execution_count": null,
   "id": "e4f5c478",
   "metadata": {},
   "outputs": [],
   "source": [
    "BP_est.pickle_class(file_name='a')"
   ]
  },
  {
   "cell_type": "code",
   "execution_count": null,
   "id": "9364f13f",
   "metadata": {},
   "outputs": [],
   "source": [
    "BP_est.results['LASSO'].mdl_store[1].cv"
   ]
  },
  {
   "cell_type": "code",
   "execution_count": null,
   "id": "53725ad9",
   "metadata": {},
   "outputs": [],
   "source": [
    "mdl.cv"
   ]
  },
  {
   "cell_type": "code",
   "execution_count": null,
   "id": "0d857b94",
   "metadata": {},
   "outputs": [],
   "source": []
  },
  {
   "cell_type": "code",
   "execution_count": null,
   "id": "b8d85a1a",
   "metadata": {},
   "outputs": [],
   "source": [
    "# Load data\n",
    "\n",
    "\n",
    "BP_est = "
   ]
  }
 ],
 "metadata": {
  "kernelspec": {
   "display_name": "Python 3 (ipykernel)",
   "language": "python",
   "name": "python3"
  },
  "language_info": {
   "codemirror_mode": {
    "name": "ipython",
    "version": 3
   },
   "file_extension": ".py",
   "mimetype": "text/x-python",
   "name": "python",
   "nbconvert_exporter": "python",
   "pygments_lexer": "ipython3",
   "version": "3.8.3"
  }
 },
 "nbformat": 4,
 "nbformat_minor": 5
}
